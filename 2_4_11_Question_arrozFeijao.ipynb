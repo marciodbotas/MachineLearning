{
  "cells": [
    {
      "cell_type": "markdown",
      "metadata": {
        "id": "view-in-github",
        "colab_type": "text"
      },
      "source": [
        "<a href=\"https://colab.research.google.com/github/marciodbotas/MachineLearning/blob/main/2_4_11_Question_arrozFeijao.ipynb\" target=\"_parent\"><img src=\"https://colab.research.google.com/assets/colab-badge.svg\" alt=\"Open In Colab\"/></a>"
      ]
    },
    {
      "cell_type": "markdown",
      "metadata": {
        "id": "ktqTCGHJw-ws"
      },
      "source": [
        "# Bean Disease Classifier\n",
        "For this assignment you'll take what you've learned so far and build a classifier for bean disease. You'll be provided with training and validation data based on 224x224 pixel color images taken of bean plants in Uganda. These images show healthy bean leaves as well as 2 types of common disease: bean rust and angular leaf spots. Your job will be to build a neural network that can tell the difference between the healthy and diseased leaves.\n",
        "\n",
        "We start by setting up the problem for you."
      ]
    },
    {
      "cell_type": "code",
      "execution_count": null,
      "metadata": {
        "id": "wmnkg6vGbX1t",
        "colab": {
          "base_uri": "https://localhost:8080/"
        },
        "outputId": "ad9fc979-cfc4-4814-b430-6f73c326f9ee"
      },
      "outputs": [
        {
          "output_type": "stream",
          "name": "stdout",
          "text": [
            "Colab only includes TensorFlow 2.x; %tensorflow_version has no effect.\n"
          ]
        }
      ],
      "source": [
        "# Do not change this code\n",
        "try:\n",
        "  # %tensorflow_version only exists in Colab.\n",
        "  %tensorflow_version 2.x\n",
        "except Exception:\n",
        "  pass"
      ]
    },
    {
      "cell_type": "code",
      "execution_count": null,
      "metadata": {
        "id": "lRV-f1DSwwiC",
        "colab": {
          "base_uri": "https://localhost:8080/"
        },
        "collapsed": true,
        "outputId": "977682f1-c7a2-4d85-d964-8ecffeff85e3"
      },
      "outputs": [
        {
          "output_type": "stream",
          "name": "stdout",
          "text": [
            "Requirement already satisfied: gdown in /usr/local/lib/python3.11/dist-packages (5.2.0)\n",
            "Requirement already satisfied: beautifulsoup4 in /usr/local/lib/python3.11/dist-packages (from gdown) (4.13.4)\n",
            "Requirement already satisfied: filelock in /usr/local/lib/python3.11/dist-packages (from gdown) (3.18.0)\n",
            "Requirement already satisfied: requests[socks] in /usr/local/lib/python3.11/dist-packages (from gdown) (2.32.3)\n",
            "Requirement already satisfied: tqdm in /usr/local/lib/python3.11/dist-packages (from gdown) (4.67.1)\n",
            "Requirement already satisfied: soupsieve>1.2 in /usr/local/lib/python3.11/dist-packages (from beautifulsoup4->gdown) (2.7)\n",
            "Requirement already satisfied: typing-extensions>=4.0.0 in /usr/local/lib/python3.11/dist-packages (from beautifulsoup4->gdown) (4.14.0)\n",
            "Requirement already satisfied: charset-normalizer<4,>=2 in /usr/local/lib/python3.11/dist-packages (from requests[socks]->gdown) (3.4.2)\n",
            "Requirement already satisfied: idna<4,>=2.5 in /usr/local/lib/python3.11/dist-packages (from requests[socks]->gdown) (3.10)\n",
            "Requirement already satisfied: urllib3<3,>=1.21.1 in /usr/local/lib/python3.11/dist-packages (from requests[socks]->gdown) (2.4.0)\n",
            "Requirement already satisfied: certifi>=2017.4.17 in /usr/local/lib/python3.11/dist-packages (from requests[socks]->gdown) (2025.6.15)\n",
            "Requirement already satisfied: PySocks!=1.5.7,>=1.5.6 in /usr/local/lib/python3.11/dist-packages (from requests[socks]->gdown) (1.7.1)\n"
          ]
        }
      ],
      "source": [
        "# Do not change this code\n",
        "!pip install --upgrade --no-cache-dir gdown"
      ]
    },
    {
      "cell_type": "code",
      "execution_count": null,
      "metadata": {
        "id": "njf4YhwFb6hW",
        "colab": {
          "base_uri": "https://localhost:8080/"
        },
        "collapsed": true,
        "outputId": "319356ec-57be-4c91-c24e-735c5850d91e"
      },
      "outputs": [
        {
          "output_type": "stream",
          "name": "stdout",
          "text": [
            "Downloading...\n",
            "From: https://storage.googleapis.com/learning-datasets/beans/train.zip\n",
            "To: /tmp/train.zip\n",
            "100% 144M/144M [00:00<00:00, 286MB/s]\n",
            "Downloading...\n",
            "From: https://storage.googleapis.com/learning-datasets/beans/validation.zip\n",
            "To: /tmp/validation.zip\n",
            "100% 18.5M/18.5M [00:00<00:00, 186MB/s]\n",
            "Downloading...\n",
            "From: https://storage.googleapis.com/learning-datasets/beans/test.zip\n",
            "To: /tmp/test.zip\n",
            "100% 17.7M/17.7M [00:00<00:00, 150MB/s]\n"
          ]
        }
      ],
      "source": [
        "# Do not change this code\n",
        "!gdown \"https://storage.googleapis.com/learning-datasets/beans/train.zip\" -O /tmp/train.zip\n",
        "!gdown \"https://storage.googleapis.com/learning-datasets/beans/validation.zip\" -O /tmp/validation.zip\n",
        "!gdown \"https://storage.googleapis.com/learning-datasets/beans/test.zip\" -O /tmp/test.zip"
      ]
    },
    {
      "cell_type": "code",
      "execution_count": null,
      "metadata": {
        "id": "KscpTrSWcK1T"
      },
      "outputs": [],
      "source": [
        "# Do not change this code\n",
        "import os\n",
        "import zipfile\n",
        "\n",
        "local_zip = '/tmp/train.zip'\n",
        "zip_ref = zipfile.ZipFile(local_zip, 'r')\n",
        "zip_ref.extractall('/tmp')\n",
        "local_zip = '/tmp/validation.zip'\n",
        "zip_ref = zipfile.ZipFile(local_zip, 'r')\n",
        "zip_ref.extractall('/tmp')\n",
        "local_zip = '/tmp/test.zip'\n",
        "zip_ref = zipfile.ZipFile(local_zip, 'r')\n",
        "zip_ref.extractall('/tmp/test')\n",
        "zip_ref.close()"
      ]
    },
    {
      "cell_type": "markdown",
      "metadata": {
        "id": "5R0WEYIitNwI"
      },
      "source": [
        "Now you need to define a generator to process the data we have loaded in Colab so that our model can use it for training. As we showed in the previous video you'll first have to define an ```ImageDataGenerator``` and then flow the data into it.\n",
        "\n",
        "*A hint: You don't want abnormal data!*"
      ]
    },
    {
      "cell_type": "markdown",
      "source": [
        "# **Modelo arroz com feijao**"
      ],
      "metadata": {
        "id": "OJOdzjwQ7MZa"
      }
    },
    {
      "cell_type": "code",
      "execution_count": null,
      "metadata": {
        "id": "jCiSd248caB4",
        "colab": {
          "base_uri": "https://localhost:8080/"
        },
        "outputId": "deab57e8-1413-43e4-a4ab-023af3dadb0e"
      },
      "outputs": [
        {
          "output_type": "stream",
          "name": "stdout",
          "text": [
            "Found 1034 images belonging to 3 classes.\n",
            "Found 133 images belonging to 3 classes.\n"
          ]
        }
      ],
      "source": [
        "from tensorflow.keras.preprocessing.image import ImageDataGenerator\n",
        "\n",
        "train_datagen = ImageDataGenerator(\n",
        "      # YOUR CODE HERE #\n",
        "      rescale=1./255\n",
        ")\n",
        "\n",
        "validation_datagen = ImageDataGenerator(\n",
        "      # YOUR CODE HERE #\n",
        "      rescale=1./255\n",
        ")\n",
        "\n",
        "TRAIN_DIRECTORY_LOCATION = '/tmp/train' # YOUR CODE HERE #\n",
        "VAL_DIRECTORY_LOCATION = '/tmp/validation' # YOUR CODE HERE #\n",
        "TARGET_SIZE = (224, 224) # YOUR CODE HERE #\n",
        "CLASS_MODE = 'categorical' # YOUR CODE HERE #\n",
        "\n",
        "train_generator = train_datagen.flow_from_directory(\n",
        "    TRAIN_DIRECTORY_LOCATION,\n",
        "    target_size = TARGET_SIZE,\n",
        "    batch_size = 128,\n",
        "    class_mode = CLASS_MODE\n",
        ")\n",
        "\n",
        "validation_generator = validation_datagen.flow_from_directory(\n",
        "    VAL_DIRECTORY_LOCATION,\n",
        "    target_size = TARGET_SIZE,\n",
        "    batch_size = 128,\n",
        "    class_mode = CLASS_MODE\n",
        ")"
      ]
    },
    {
      "cell_type": "markdown",
      "metadata": {
        "id": "rjpkGy4RtNwJ"
      },
      "source": [
        "Now its your turn to define a model to learn this data.\n",
        "\n",
        "*A hint: Like with the CIFAR-10 assignment, your model may want to learn some high level features and then classify them. This time it may help to make the model a little wider at times.*"
      ]
    },
    {
      "cell_type": "code",
      "execution_count": null,
      "metadata": {
        "id": "vrJt6YSDcqjX",
        "colab": {
          "base_uri": "https://localhost:8080/",
          "height": 537
        },
        "outputId": "ecaf1c59-689d-4f43-da79-659e111984df"
      },
      "outputs": [
        {
          "output_type": "stream",
          "name": "stderr",
          "text": [
            "/usr/local/lib/python3.11/dist-packages/keras/src/layers/convolutional/base_conv.py:107: UserWarning: Do not pass an `input_shape`/`input_dim` argument to a layer. When using Sequential models, prefer using an `Input(shape)` object as the first layer in the model instead.\n",
            "  super().__init__(activity_regularizer=activity_regularizer, **kwargs)\n"
          ]
        },
        {
          "output_type": "display_data",
          "data": {
            "text/plain": [
              "\u001b[1mModel: \"sequential\"\u001b[0m\n"
            ],
            "text/html": [
              "<pre style=\"white-space:pre;overflow-x:auto;line-height:normal;font-family:Menlo,'DejaVu Sans Mono',consolas,'Courier New',monospace\"><span style=\"font-weight: bold\">Model: \"sequential\"</span>\n",
              "</pre>\n"
            ]
          },
          "metadata": {}
        },
        {
          "output_type": "display_data",
          "data": {
            "text/plain": [
              "┏━━━━━━━━━━━━━━━━━━━━━━━━━━━━━━━━━┳━━━━━━━━━━━━━━━━━━━━━━━━┳━━━━━━━━━━━━━━━┓\n",
              "┃\u001b[1m \u001b[0m\u001b[1mLayer (type)                   \u001b[0m\u001b[1m \u001b[0m┃\u001b[1m \u001b[0m\u001b[1mOutput Shape          \u001b[0m\u001b[1m \u001b[0m┃\u001b[1m \u001b[0m\u001b[1m      Param #\u001b[0m\u001b[1m \u001b[0m┃\n",
              "┡━━━━━━━━━━━━━━━━━━━━━━━━━━━━━━━━━╇━━━━━━━━━━━━━━━━━━━━━━━━╇━━━━━━━━━━━━━━━┩\n",
              "│ conv2d (\u001b[38;5;33mConv2D\u001b[0m)                 │ (\u001b[38;5;45mNone\u001b[0m, \u001b[38;5;34m222\u001b[0m, \u001b[38;5;34m222\u001b[0m, \u001b[38;5;34m16\u001b[0m)   │           \u001b[38;5;34m448\u001b[0m │\n",
              "├─────────────────────────────────┼────────────────────────┼───────────────┤\n",
              "│ max_pooling2d (\u001b[38;5;33mMaxPooling2D\u001b[0m)    │ (\u001b[38;5;45mNone\u001b[0m, \u001b[38;5;34m111\u001b[0m, \u001b[38;5;34m111\u001b[0m, \u001b[38;5;34m16\u001b[0m)   │             \u001b[38;5;34m0\u001b[0m │\n",
              "├─────────────────────────────────┼────────────────────────┼───────────────┤\n",
              "│ conv2d_1 (\u001b[38;5;33mConv2D\u001b[0m)               │ (\u001b[38;5;45mNone\u001b[0m, \u001b[38;5;34m109\u001b[0m, \u001b[38;5;34m109\u001b[0m, \u001b[38;5;34m32\u001b[0m)   │         \u001b[38;5;34m4,640\u001b[0m │\n",
              "├─────────────────────────────────┼────────────────────────┼───────────────┤\n",
              "│ max_pooling2d_1 (\u001b[38;5;33mMaxPooling2D\u001b[0m)  │ (\u001b[38;5;45mNone\u001b[0m, \u001b[38;5;34m54\u001b[0m, \u001b[38;5;34m54\u001b[0m, \u001b[38;5;34m32\u001b[0m)     │             \u001b[38;5;34m0\u001b[0m │\n",
              "├─────────────────────────────────┼────────────────────────┼───────────────┤\n",
              "│ conv2d_2 (\u001b[38;5;33mConv2D\u001b[0m)               │ (\u001b[38;5;45mNone\u001b[0m, \u001b[38;5;34m52\u001b[0m, \u001b[38;5;34m52\u001b[0m, \u001b[38;5;34m64\u001b[0m)     │        \u001b[38;5;34m18,496\u001b[0m │\n",
              "├─────────────────────────────────┼────────────────────────┼───────────────┤\n",
              "│ max_pooling2d_2 (\u001b[38;5;33mMaxPooling2D\u001b[0m)  │ (\u001b[38;5;45mNone\u001b[0m, \u001b[38;5;34m26\u001b[0m, \u001b[38;5;34m26\u001b[0m, \u001b[38;5;34m64\u001b[0m)     │             \u001b[38;5;34m0\u001b[0m │\n",
              "├─────────────────────────────────┼────────────────────────┼───────────────┤\n",
              "│ conv2d_3 (\u001b[38;5;33mConv2D\u001b[0m)               │ (\u001b[38;5;45mNone\u001b[0m, \u001b[38;5;34m24\u001b[0m, \u001b[38;5;34m24\u001b[0m, \u001b[38;5;34m128\u001b[0m)    │        \u001b[38;5;34m73,856\u001b[0m │\n",
              "├─────────────────────────────────┼────────────────────────┼───────────────┤\n",
              "│ max_pooling2d_3 (\u001b[38;5;33mMaxPooling2D\u001b[0m)  │ (\u001b[38;5;45mNone\u001b[0m, \u001b[38;5;34m12\u001b[0m, \u001b[38;5;34m12\u001b[0m, \u001b[38;5;34m128\u001b[0m)    │             \u001b[38;5;34m0\u001b[0m │\n",
              "├─────────────────────────────────┼────────────────────────┼───────────────┤\n",
              "│ flatten (\u001b[38;5;33mFlatten\u001b[0m)               │ (\u001b[38;5;45mNone\u001b[0m, \u001b[38;5;34m18432\u001b[0m)          │             \u001b[38;5;34m0\u001b[0m │\n",
              "├─────────────────────────────────┼────────────────────────┼───────────────┤\n",
              "│ dense (\u001b[38;5;33mDense\u001b[0m)                   │ (\u001b[38;5;45mNone\u001b[0m, \u001b[38;5;34m512\u001b[0m)            │     \u001b[38;5;34m9,437,696\u001b[0m │\n",
              "├─────────────────────────────────┼────────────────────────┼───────────────┤\n",
              "│ dense_1 (\u001b[38;5;33mDense\u001b[0m)                 │ (\u001b[38;5;45mNone\u001b[0m, \u001b[38;5;34m3\u001b[0m)              │         \u001b[38;5;34m1,539\u001b[0m │\n",
              "└─────────────────────────────────┴────────────────────────┴───────────────┘\n"
            ],
            "text/html": [
              "<pre style=\"white-space:pre;overflow-x:auto;line-height:normal;font-family:Menlo,'DejaVu Sans Mono',consolas,'Courier New',monospace\">┏━━━━━━━━━━━━━━━━━━━━━━━━━━━━━━━━━┳━━━━━━━━━━━━━━━━━━━━━━━━┳━━━━━━━━━━━━━━━┓\n",
              "┃<span style=\"font-weight: bold\"> Layer (type)                    </span>┃<span style=\"font-weight: bold\"> Output Shape           </span>┃<span style=\"font-weight: bold\">       Param # </span>┃\n",
              "┡━━━━━━━━━━━━━━━━━━━━━━━━━━━━━━━━━╇━━━━━━━━━━━━━━━━━━━━━━━━╇━━━━━━━━━━━━━━━┩\n",
              "│ conv2d (<span style=\"color: #0087ff; text-decoration-color: #0087ff\">Conv2D</span>)                 │ (<span style=\"color: #00d7ff; text-decoration-color: #00d7ff\">None</span>, <span style=\"color: #00af00; text-decoration-color: #00af00\">222</span>, <span style=\"color: #00af00; text-decoration-color: #00af00\">222</span>, <span style=\"color: #00af00; text-decoration-color: #00af00\">16</span>)   │           <span style=\"color: #00af00; text-decoration-color: #00af00\">448</span> │\n",
              "├─────────────────────────────────┼────────────────────────┼───────────────┤\n",
              "│ max_pooling2d (<span style=\"color: #0087ff; text-decoration-color: #0087ff\">MaxPooling2D</span>)    │ (<span style=\"color: #00d7ff; text-decoration-color: #00d7ff\">None</span>, <span style=\"color: #00af00; text-decoration-color: #00af00\">111</span>, <span style=\"color: #00af00; text-decoration-color: #00af00\">111</span>, <span style=\"color: #00af00; text-decoration-color: #00af00\">16</span>)   │             <span style=\"color: #00af00; text-decoration-color: #00af00\">0</span> │\n",
              "├─────────────────────────────────┼────────────────────────┼───────────────┤\n",
              "│ conv2d_1 (<span style=\"color: #0087ff; text-decoration-color: #0087ff\">Conv2D</span>)               │ (<span style=\"color: #00d7ff; text-decoration-color: #00d7ff\">None</span>, <span style=\"color: #00af00; text-decoration-color: #00af00\">109</span>, <span style=\"color: #00af00; text-decoration-color: #00af00\">109</span>, <span style=\"color: #00af00; text-decoration-color: #00af00\">32</span>)   │         <span style=\"color: #00af00; text-decoration-color: #00af00\">4,640</span> │\n",
              "├─────────────────────────────────┼────────────────────────┼───────────────┤\n",
              "│ max_pooling2d_1 (<span style=\"color: #0087ff; text-decoration-color: #0087ff\">MaxPooling2D</span>)  │ (<span style=\"color: #00d7ff; text-decoration-color: #00d7ff\">None</span>, <span style=\"color: #00af00; text-decoration-color: #00af00\">54</span>, <span style=\"color: #00af00; text-decoration-color: #00af00\">54</span>, <span style=\"color: #00af00; text-decoration-color: #00af00\">32</span>)     │             <span style=\"color: #00af00; text-decoration-color: #00af00\">0</span> │\n",
              "├─────────────────────────────────┼────────────────────────┼───────────────┤\n",
              "│ conv2d_2 (<span style=\"color: #0087ff; text-decoration-color: #0087ff\">Conv2D</span>)               │ (<span style=\"color: #00d7ff; text-decoration-color: #00d7ff\">None</span>, <span style=\"color: #00af00; text-decoration-color: #00af00\">52</span>, <span style=\"color: #00af00; text-decoration-color: #00af00\">52</span>, <span style=\"color: #00af00; text-decoration-color: #00af00\">64</span>)     │        <span style=\"color: #00af00; text-decoration-color: #00af00\">18,496</span> │\n",
              "├─────────────────────────────────┼────────────────────────┼───────────────┤\n",
              "│ max_pooling2d_2 (<span style=\"color: #0087ff; text-decoration-color: #0087ff\">MaxPooling2D</span>)  │ (<span style=\"color: #00d7ff; text-decoration-color: #00d7ff\">None</span>, <span style=\"color: #00af00; text-decoration-color: #00af00\">26</span>, <span style=\"color: #00af00; text-decoration-color: #00af00\">26</span>, <span style=\"color: #00af00; text-decoration-color: #00af00\">64</span>)     │             <span style=\"color: #00af00; text-decoration-color: #00af00\">0</span> │\n",
              "├─────────────────────────────────┼────────────────────────┼───────────────┤\n",
              "│ conv2d_3 (<span style=\"color: #0087ff; text-decoration-color: #0087ff\">Conv2D</span>)               │ (<span style=\"color: #00d7ff; text-decoration-color: #00d7ff\">None</span>, <span style=\"color: #00af00; text-decoration-color: #00af00\">24</span>, <span style=\"color: #00af00; text-decoration-color: #00af00\">24</span>, <span style=\"color: #00af00; text-decoration-color: #00af00\">128</span>)    │        <span style=\"color: #00af00; text-decoration-color: #00af00\">73,856</span> │\n",
              "├─────────────────────────────────┼────────────────────────┼───────────────┤\n",
              "│ max_pooling2d_3 (<span style=\"color: #0087ff; text-decoration-color: #0087ff\">MaxPooling2D</span>)  │ (<span style=\"color: #00d7ff; text-decoration-color: #00d7ff\">None</span>, <span style=\"color: #00af00; text-decoration-color: #00af00\">12</span>, <span style=\"color: #00af00; text-decoration-color: #00af00\">12</span>, <span style=\"color: #00af00; text-decoration-color: #00af00\">128</span>)    │             <span style=\"color: #00af00; text-decoration-color: #00af00\">0</span> │\n",
              "├─────────────────────────────────┼────────────────────────┼───────────────┤\n",
              "│ flatten (<span style=\"color: #0087ff; text-decoration-color: #0087ff\">Flatten</span>)               │ (<span style=\"color: #00d7ff; text-decoration-color: #00d7ff\">None</span>, <span style=\"color: #00af00; text-decoration-color: #00af00\">18432</span>)          │             <span style=\"color: #00af00; text-decoration-color: #00af00\">0</span> │\n",
              "├─────────────────────────────────┼────────────────────────┼───────────────┤\n",
              "│ dense (<span style=\"color: #0087ff; text-decoration-color: #0087ff\">Dense</span>)                   │ (<span style=\"color: #00d7ff; text-decoration-color: #00d7ff\">None</span>, <span style=\"color: #00af00; text-decoration-color: #00af00\">512</span>)            │     <span style=\"color: #00af00; text-decoration-color: #00af00\">9,437,696</span> │\n",
              "├─────────────────────────────────┼────────────────────────┼───────────────┤\n",
              "│ dense_1 (<span style=\"color: #0087ff; text-decoration-color: #0087ff\">Dense</span>)                 │ (<span style=\"color: #00d7ff; text-decoration-color: #00d7ff\">None</span>, <span style=\"color: #00af00; text-decoration-color: #00af00\">3</span>)              │         <span style=\"color: #00af00; text-decoration-color: #00af00\">1,539</span> │\n",
              "└─────────────────────────────────┴────────────────────────┴───────────────┘\n",
              "</pre>\n"
            ]
          },
          "metadata": {}
        },
        {
          "output_type": "display_data",
          "data": {
            "text/plain": [
              "\u001b[1m Total params: \u001b[0m\u001b[38;5;34m9,536,675\u001b[0m (36.38 MB)\n"
            ],
            "text/html": [
              "<pre style=\"white-space:pre;overflow-x:auto;line-height:normal;font-family:Menlo,'DejaVu Sans Mono',consolas,'Courier New',monospace\"><span style=\"font-weight: bold\"> Total params: </span><span style=\"color: #00af00; text-decoration-color: #00af00\">9,536,675</span> (36.38 MB)\n",
              "</pre>\n"
            ]
          },
          "metadata": {}
        },
        {
          "output_type": "display_data",
          "data": {
            "text/plain": [
              "\u001b[1m Trainable params: \u001b[0m\u001b[38;5;34m9,536,675\u001b[0m (36.38 MB)\n"
            ],
            "text/html": [
              "<pre style=\"white-space:pre;overflow-x:auto;line-height:normal;font-family:Menlo,'DejaVu Sans Mono',consolas,'Courier New',monospace\"><span style=\"font-weight: bold\"> Trainable params: </span><span style=\"color: #00af00; text-decoration-color: #00af00\">9,536,675</span> (36.38 MB)\n",
              "</pre>\n"
            ]
          },
          "metadata": {}
        },
        {
          "output_type": "display_data",
          "data": {
            "text/plain": [
              "\u001b[1m Non-trainable params: \u001b[0m\u001b[38;5;34m0\u001b[0m (0.00 B)\n"
            ],
            "text/html": [
              "<pre style=\"white-space:pre;overflow-x:auto;line-height:normal;font-family:Menlo,'DejaVu Sans Mono',consolas,'Courier New',monospace\"><span style=\"font-weight: bold\"> Non-trainable params: </span><span style=\"color: #00af00; text-decoration-color: #00af00\">0</span> (0.00 B)\n",
              "</pre>\n"
            ]
          },
          "metadata": {}
        }
      ],
      "source": [
        "import tensorflow as tf\n",
        "model = tf.keras.models.Sequential([\n",
        "    #YOUR CODE HERE#\n",
        "    tf.keras.layers.Conv2D(16, (3,3), activation='relu', input_shape=(224, 224, 3)),\n",
        "    tf.keras.layers.MaxPooling2D(2, 2),\n",
        "    tf.keras.layers.Conv2D(32, (3,3), activation='relu'),\n",
        "    tf.keras.layers.MaxPooling2D(2,2),\n",
        "    tf.keras.layers.Conv2D(64, (3,3), activation='relu'),\n",
        "    tf.keras.layers.MaxPooling2D(2,2),\n",
        "    tf.keras.layers.Conv2D(128, (3,3), activation='relu'),\n",
        "    tf.keras.layers.MaxPooling2D(2,2),\n",
        "    tf.keras.layers.Flatten(),\n",
        "    tf.keras.layers.Dense(512, activation='relu'),\n",
        "    tf.keras.layers.Dense(3, activation='softmax')\n",
        "])\n",
        "\n",
        "# This will print a summary of your model when you're done!\n",
        "model.summary()"
      ]
    },
    {
      "cell_type": "markdown",
      "metadata": {
        "id": "O6UOV_PztNwK"
      },
      "source": [
        "Then you'll need to pick an appropriate loss function and optimizer.\n",
        "\n",
        "*A hint: remember we are classifying again.*"
      ]
    },
    {
      "cell_type": "code",
      "execution_count": null,
      "metadata": {
        "id": "nST6CyvCcy-2"
      },
      "outputs": [],
      "source": [
        "LOSS_FUNCTION = 'categorical_crossentropy'\n",
        "OPTIMIZER = 'adam'\n",
        "\n",
        "model.compile(\n",
        "    loss = LOSS_FUNCTION,\n",
        "    optimizer = OPTIMIZER,\n",
        "    metrics = ['accuracy']\n",
        ")"
      ]
    },
    {
      "cell_type": "markdown",
      "metadata": {
        "id": "0EDyhXfgtNwL"
      },
      "source": [
        "Finally select the number of epochs you'd like to train for and train your model!\n",
        "\n",
        "*A hint: something in the low tens is a good place to start*"
      ]
    },
    {
      "cell_type": "code",
      "execution_count": null,
      "metadata": {
        "id": "Q3iK9LX9deu2",
        "colab": {
          "base_uri": "https://localhost:8080/",
          "height": 1000
        },
        "outputId": "306e6483-a1cf-4457-b894-c0e6d4f6cee6"
      },
      "outputs": [
        {
          "output_type": "stream",
          "name": "stderr",
          "text": [
            "/usr/local/lib/python3.11/dist-packages/keras/src/trainers/data_adapters/py_dataset_adapter.py:121: UserWarning: Your `PyDataset` class should call `super().__init__(**kwargs)` in its constructor. `**kwargs` can include `workers`, `use_multiprocessing`, `max_queue_size`. Do not pass these arguments to `fit()`, as they will be ignored.\n",
            "  self._warn_if_super_not_called()\n"
          ]
        },
        {
          "output_type": "stream",
          "name": "stdout",
          "text": [
            "Epoch 1/20\n",
            "\u001b[1m9/9\u001b[0m \u001b[32m━━━━━━━━━━━━━━━━━━━━\u001b[0m\u001b[37m\u001b[0m \u001b[1m18s\u001b[0m 1s/step - accuracy: 0.3481 - loss: 1.2281 - val_accuracy: 0.5038 - val_loss: 1.0233\n",
            "Epoch 2/20\n",
            "\u001b[1m9/9\u001b[0m \u001b[32m━━━━━━━━━━━━━━━━━━━━\u001b[0m\u001b[37m\u001b[0m \u001b[1m5s\u001b[0m 537ms/step - accuracy: 0.5316 - loss: 0.9854 - val_accuracy: 0.6241 - val_loss: 0.8163\n",
            "Epoch 3/20\n",
            "\u001b[1m9/9\u001b[0m \u001b[32m━━━━━━━━━━━━━━━━━━━━\u001b[0m\u001b[37m\u001b[0m \u001b[1m5s\u001b[0m 527ms/step - accuracy: 0.6667 - loss: 0.8056 - val_accuracy: 0.6316 - val_loss: 0.7765\n",
            "Epoch 4/20\n",
            "\u001b[1m9/9\u001b[0m \u001b[32m━━━━━━━━━━━━━━━━━━━━\u001b[0m\u001b[37m\u001b[0m \u001b[1m5s\u001b[0m 561ms/step - accuracy: 0.6849 - loss: 0.7166 - val_accuracy: 0.5865 - val_loss: 0.9150\n",
            "Epoch 5/20\n",
            "\u001b[1m9/9\u001b[0m \u001b[32m━━━━━━━━━━━━━━━━━━━━\u001b[0m\u001b[37m\u001b[0m \u001b[1m5s\u001b[0m 588ms/step - accuracy: 0.6918 - loss: 0.7099 - val_accuracy: 0.6541 - val_loss: 0.7902\n",
            "Epoch 6/20\n",
            "\u001b[1m9/9\u001b[0m \u001b[32m━━━━━━━━━━━━━━━━━━━━\u001b[0m\u001b[37m\u001b[0m \u001b[1m5s\u001b[0m 596ms/step - accuracy: 0.6715 - loss: 0.7488 - val_accuracy: 0.6842 - val_loss: 0.6818\n",
            "Epoch 7/20\n",
            "\u001b[1m9/9\u001b[0m \u001b[32m━━━━━━━━━━━━━━━━━━━━\u001b[0m\u001b[37m\u001b[0m \u001b[1m5s\u001b[0m 504ms/step - accuracy: 0.7505 - loss: 0.5987 - val_accuracy: 0.7143 - val_loss: 0.6264\n",
            "Epoch 8/20\n",
            "\u001b[1m9/9\u001b[0m \u001b[32m━━━━━━━━━━━━━━━━━━━━\u001b[0m\u001b[37m\u001b[0m \u001b[1m5s\u001b[0m 541ms/step - accuracy: 0.7337 - loss: 0.5849 - val_accuracy: 0.6917 - val_loss: 0.6743\n",
            "Epoch 9/20\n",
            "\u001b[1m9/9\u001b[0m \u001b[32m━━━━━━━━━━━━━━━━━━━━\u001b[0m\u001b[37m\u001b[0m \u001b[1m5s\u001b[0m 554ms/step - accuracy: 0.7587 - loss: 0.5694 - val_accuracy: 0.7519 - val_loss: 0.6254\n",
            "Epoch 10/20\n",
            "\u001b[1m9/9\u001b[0m \u001b[32m━━━━━━━━━━━━━━━━━━━━\u001b[0m\u001b[37m\u001b[0m \u001b[1m5s\u001b[0m 515ms/step - accuracy: 0.7385 - loss: 0.5942 - val_accuracy: 0.7744 - val_loss: 0.5448\n",
            "Epoch 11/20\n",
            "\u001b[1m9/9\u001b[0m \u001b[32m━━━━━━━━━━━━━━━━━━━━\u001b[0m\u001b[37m\u001b[0m \u001b[1m5s\u001b[0m 662ms/step - accuracy: 0.7974 - loss: 0.4946 - val_accuracy: 0.6917 - val_loss: 0.6485\n",
            "Epoch 12/20\n",
            "\u001b[1m9/9\u001b[0m \u001b[32m━━━━━━━━━━━━━━━━━━━━\u001b[0m\u001b[37m\u001b[0m \u001b[1m5s\u001b[0m 509ms/step - accuracy: 0.8048 - loss: 0.4676 - val_accuracy: 0.6015 - val_loss: 0.9891\n",
            "Epoch 13/20\n",
            "\u001b[1m9/9\u001b[0m \u001b[32m━━━━━━━━━━━━━━━━━━━━\u001b[0m\u001b[37m\u001b[0m \u001b[1m6s\u001b[0m 655ms/step - accuracy: 0.7591 - loss: 0.6455 - val_accuracy: 0.6917 - val_loss: 0.6616\n",
            "Epoch 14/20\n",
            "\u001b[1m9/9\u001b[0m \u001b[32m━━━━━━━━━━━━━━━━━━━━\u001b[0m\u001b[37m\u001b[0m \u001b[1m9s\u001b[0m 528ms/step - accuracy: 0.8202 - loss: 0.4583 - val_accuracy: 0.7293 - val_loss: 0.6179\n",
            "Epoch 15/20\n",
            "\u001b[1m9/9\u001b[0m \u001b[32m━━━━━━━━━━━━━━━━━━━━\u001b[0m\u001b[37m\u001b[0m \u001b[1m5s\u001b[0m 597ms/step - accuracy: 0.8099 - loss: 0.4295 - val_accuracy: 0.7444 - val_loss: 0.5347\n",
            "Epoch 16/20\n",
            "\u001b[1m9/9\u001b[0m \u001b[32m━━━━━━━━━━━━━━━━━━━━\u001b[0m\u001b[37m\u001b[0m \u001b[1m5s\u001b[0m 517ms/step - accuracy: 0.8642 - loss: 0.3667 - val_accuracy: 0.7820 - val_loss: 0.5802\n",
            "Epoch 17/20\n",
            "\u001b[1m9/9\u001b[0m \u001b[32m━━━━━━━━━━━━━━━━━━━━\u001b[0m\u001b[37m\u001b[0m \u001b[1m6s\u001b[0m 589ms/step - accuracy: 0.8723 - loss: 0.3060 - val_accuracy: 0.7218 - val_loss: 0.6106\n",
            "Epoch 18/20\n",
            "\u001b[1m9/9\u001b[0m \u001b[32m━━━━━━━━━━━━━━━━━━━━\u001b[0m\u001b[37m\u001b[0m \u001b[1m5s\u001b[0m 513ms/step - accuracy: 0.8863 - loss: 0.2708 - val_accuracy: 0.7669 - val_loss: 0.5814\n",
            "Epoch 19/20\n",
            "\u001b[1m9/9\u001b[0m \u001b[32m━━━━━━━━━━━━━━━━━━━━\u001b[0m\u001b[37m\u001b[0m \u001b[1m5s\u001b[0m 531ms/step - accuracy: 0.9009 - loss: 0.2441 - val_accuracy: 0.7594 - val_loss: 0.5744\n",
            "Epoch 20/20\n",
            "\u001b[1m9/9\u001b[0m \u001b[32m━━━━━━━━━━━━━━━━━━━━\u001b[0m\u001b[37m\u001b[0m \u001b[1m5s\u001b[0m 661ms/step - accuracy: 0.9136 - loss: 0.2233 - val_accuracy: 0.7820 - val_loss: 0.5203\n"
          ]
        },
        {
          "output_type": "display_data",
          "data": {
            "text/plain": [
              "<Figure size 640x480 with 1 Axes>"
            ],
            "image/png": "[encoded data removed]"
          },
          "metadata": {}
        }
      ],
      "source": [
        "NUM_EPOCHS = 20 #YOUR CODE HERE#\n",
        "\n",
        "history = model.fit(\n",
        "      train_generator,\n",
        "      epochs = NUM_EPOCHS,\n",
        "      verbose = 1,\n",
        "      validation_data = validation_generator)\n",
        "\n",
        "# summarize history for accuracy\n",
        "import matplotlib.pyplot as plt\n",
        "plt.plot(history.history['accuracy'])\n",
        "plt.plot(history.history['val_accuracy'])\n",
        "plt.title('model accuracy')\n",
        "plt.ylabel('accuracy')\n",
        "plt.xlabel('epoch')\n",
        "plt.legend(['train', 'test'], loc='upper left')\n",
        "plt.xlim([0,NUM_EPOCHS])\n",
        "plt.ylim([0.4,1.0])\n",
        "plt.show()"
      ]
    },
    {
      "cell_type": "markdown",
      "source": [
        "# **Modelo refinado blaster**"
      ],
      "metadata": {
        "id": "DyJUA4PO7DY-"
      }
    },
    {
      "cell_type": "code",
      "source": [
        "from tensorflow.keras.preprocessing.image import ImageDataGenerator\n",
        "\n",
        "train_datagen = ImageDataGenerator(\n",
        "    rescale=1./255,\n",
        "    rotation_range=40,\n",
        "    width_shift_range=0.2,\n",
        "    height_shift_range=0.2,\n",
        "    shear_range=0.2,\n",
        "    zoom_range=0.2,\n",
        "    horizontal_flip=True,\n",
        "    fill_mode='nearest'\n",
        "\n",
        ")\n",
        "\n",
        "validation_datagen = ImageDataGenerator(\n",
        "      # YOUR CODE HERE #\n",
        "      rescale=1./255\n",
        ")\n",
        "\n",
        "TRAIN_DIRECTORY_LOCATION = '/tmp/train' # YOUR CODE HERE #\n",
        "VAL_DIRECTORY_LOCATION = '/tmp/validation' # YOUR CODE HERE #\n",
        "TARGET_SIZE = (224, 224) # YOUR CODE HERE #\n",
        "CLASS_MODE = 'categorical' # YOUR CODE HERE #\n",
        "\n",
        "train_generator = train_datagen.flow_from_directory(\n",
        "    TRAIN_DIRECTORY_LOCATION,\n",
        "    target_size = TARGET_SIZE,\n",
        "    batch_size = 128,\n",
        "    class_mode = CLASS_MODE\n",
        ")\n",
        "\n",
        "validation_generator = validation_datagen.flow_from_directory(\n",
        "    VAL_DIRECTORY_LOCATION,\n",
        "    target_size = TARGET_SIZE,\n",
        "    batch_size = 128,\n",
        "    class_mode = CLASS_MODE\n",
        ")\n",
        "\n",
        "import tensorflow as tf\n",
        "model = tf.keras.models.Sequential([\n",
        "    #YOUR CODE HERE#\n",
        "    tf.keras.layers.Conv2D(16, (3,3), activation='relu', input_shape=(224, 224, 3)),\n",
        "    tf.keras.layers.MaxPooling2D(2, 2),\n",
        "    tf.keras.layers.Conv2D(32, (3,3), activation='relu'),\n",
        "    tf.keras.layers.MaxPooling2D(2,2),\n",
        "    tf.keras.layers.Conv2D(64, (3,3), activation='relu'),\n",
        "    tf.keras.layers.MaxPooling2D(2,2),\n",
        "    tf.keras.layers.Conv2D(128, (3,3), activation='relu'),\n",
        "    tf.keras.layers.MaxPooling2D(2,2),\n",
        "    tf.keras.layers.Flatten(),\n",
        "    tf.keras.layers.Dense(512, activation='relu'),\n",
        "    tf.keras.layers.Dropout(0.3),\n",
        "    tf.keras.layers.Dense(3, activation='softmax')\n",
        "])\n",
        "\n",
        "# This will print a summary of your model when you're done!\n",
        "#model.summary()\n",
        "\n",
        "LOSS_FUNCTION = 'categorical_crossentropy'\n",
        "OPTIMIZER = 'adam'\n",
        "\n",
        "model.compile(\n",
        "    loss = LOSS_FUNCTION,\n",
        "    optimizer = OPTIMIZER,\n",
        "    metrics = ['accuracy']\n",
        ")\n",
        "NUM_EPOCHS = 30 #YOUR CODE HERE#\n",
        "\n",
        "# Callback para reduzir a learning rate automaticamente se necessário\n",
        "reduce_lr = tf.keras.callbacks.ReduceLROnPlateau(monitor='val_loss', factor=0.5, patience=3, verbose=1)  # Sugestão: callback para ajuste dinâmico da learning rate\n",
        "\n",
        "\n",
        "history = model.fit(\n",
        "      train_generator,\n",
        "      epochs = NUM_EPOCHS,\n",
        "      verbose = 1,\n",
        "      validation_data = validation_generator,\n",
        "      callbacks=[reduce_lr])\n",
        "\n",
        "# summarize history for accuracy\n",
        "import matplotlib.pyplot as plt\n",
        "plt.plot(history.history['accuracy'])\n",
        "plt.plot(history.history['val_accuracy'])\n",
        "plt.title('model accuracy')\n",
        "plt.ylabel('accuracy')\n",
        "plt.xlabel('epoch')\n",
        "plt.legend(['train', 'test'], loc='upper left')\n",
        "plt.xlim([0,NUM_EPOCHS])\n",
        "plt.ylim([0.4,1.0])\n",
        "plt.show()"
      ],
      "metadata": {
        "colab": {
          "base_uri": "https://localhost:8080/",
          "height": 1000
        },
        "id": "cxkyJ_ECk50e",
        "outputId": "0b2cc090-1950-466e-8679-b51ff6a24d2c"
      },
      "execution_count": null,
      "outputs": [
        {
          "output_type": "stream",
          "name": "stdout",
          "text": [
            "Found 1034 images belonging to 3 classes.\n",
            "Found 133 images belonging to 3 classes.\n"
          ]
        },
        {
          "output_type": "stream",
          "name": "stderr",
          "text": [
            "/usr/local/lib/python3.11/dist-packages/keras/src/layers/convolutional/base_conv.py:107: UserWarning: Do not pass an `input_shape`/`input_dim` argument to a layer. When using Sequential models, prefer using an `Input(shape)` object as the first layer in the model instead.\n",
            "  super().__init__(activity_regularizer=activity_regularizer, **kwargs)\n"
          ]
        },
        {
          "output_type": "stream",
          "name": "stdout",
          "text": [
            "Epoch 1/30\n",
            "\u001b[1m9/9\u001b[0m \u001b[32m━━━━━━━━━━━━━━━━━━━━\u001b[0m\u001b[37m\u001b[0m \u001b[1m22s\u001b[0m 2s/step - accuracy: 0.3504 - loss: 1.2559 - val_accuracy: 0.3534 - val_loss: 1.0816 - learning_rate: 0.0010\n",
            "Epoch 2/30\n",
            "\u001b[1m9/9\u001b[0m \u001b[32m━━━━━━━━━━━━━━━━━━━━\u001b[0m\u001b[37m\u001b[0m \u001b[1m16s\u001b[0m 2s/step - accuracy: 0.3880 - loss: 1.0762 - val_accuracy: 0.4211 - val_loss: 1.0769 - learning_rate: 0.0010\n",
            "Epoch 3/30\n",
            "\u001b[1m9/9\u001b[0m \u001b[32m━━━━━━━━━━━━━━━━━━━━\u001b[0m\u001b[37m\u001b[0m \u001b[1m16s\u001b[0m 2s/step - accuracy: 0.5083 - loss: 1.0167 - val_accuracy: 0.6316 - val_loss: 0.8777 - learning_rate: 0.0010\n",
            "Epoch 4/30\n",
            "\u001b[1m9/9\u001b[0m \u001b[32m━━━━━━━━━━━━━━━━━━━━\u001b[0m\u001b[37m\u001b[0m \u001b[1m16s\u001b[0m 2s/step - accuracy: 0.5819 - loss: 0.9043 - val_accuracy: 0.5714 - val_loss: 0.8789 - learning_rate: 0.0010\n",
            "Epoch 5/30\n",
            "\u001b[1m9/9\u001b[0m \u001b[32m━━━━━━━━━━━━━━━━━━━━\u001b[0m\u001b[37m\u001b[0m \u001b[1m16s\u001b[0m 2s/step - accuracy: 0.5890 - loss: 0.8818 - val_accuracy: 0.5865 - val_loss: 0.9018 - learning_rate: 0.0010\n",
            "Epoch 6/30\n",
            "\u001b[1m9/9\u001b[0m \u001b[32m━━━━━━━━━━━━━━━━━━━━\u001b[0m\u001b[37m\u001b[0m \u001b[1m17s\u001b[0m 2s/step - accuracy: 0.6225 - loss: 0.8585 - val_accuracy: 0.6541 - val_loss: 0.7572 - learning_rate: 0.0010\n",
            "Epoch 7/30\n",
            "\u001b[1m9/9\u001b[0m \u001b[32m━━━━━━━━━━━━━━━━━━━━\u001b[0m\u001b[37m\u001b[0m \u001b[1m16s\u001b[0m 2s/step - accuracy: 0.6636 - loss: 0.7942 - val_accuracy: 0.6015 - val_loss: 0.7045 - learning_rate: 0.0010\n",
            "Epoch 8/30\n",
            "\u001b[1m9/9\u001b[0m \u001b[32m━━━━━━━━━━━━━━━━━━━━\u001b[0m\u001b[37m\u001b[0m \u001b[1m16s\u001b[0m 2s/step - accuracy: 0.6425 - loss: 0.8011 - val_accuracy: 0.6316 - val_loss: 0.7641 - learning_rate: 0.0010\n",
            "Epoch 9/30\n",
            "\u001b[1m9/9\u001b[0m \u001b[32m━━━━━━━━━━━━━━━━━━━━\u001b[0m\u001b[37m\u001b[0m \u001b[1m16s\u001b[0m 2s/step - accuracy: 0.6642 - loss: 0.7511 - val_accuracy: 0.5940 - val_loss: 0.7876 - learning_rate: 0.0010\n",
            "Epoch 10/30\n",
            "\u001b[1m9/9\u001b[0m \u001b[32m━━━━━━━━━━━━━━━━━━━━\u001b[0m\u001b[37m\u001b[0m \u001b[1m16s\u001b[0m 2s/step - accuracy: 0.6289 - loss: 0.8344 - val_accuracy: 0.7293 - val_loss: 0.6395 - learning_rate: 0.0010\n",
            "Epoch 11/30\n",
            "\u001b[1m9/9\u001b[0m \u001b[32m━━━━━━━━━━━━━━━━━━━━\u001b[0m\u001b[37m\u001b[0m \u001b[1m16s\u001b[0m 2s/step - accuracy: 0.5911 - loss: 0.8668 - val_accuracy: 0.6842 - val_loss: 0.7775 - learning_rate: 0.0010\n",
            "Epoch 12/30\n",
            "\u001b[1m9/9\u001b[0m \u001b[32m━━━━━━━━━━━━━━━━━━━━\u001b[0m\u001b[37m\u001b[0m \u001b[1m16s\u001b[0m 2s/step - accuracy: 0.6169 - loss: 0.8643 - val_accuracy: 0.6842 - val_loss: 0.7035 - learning_rate: 0.0010\n",
            "Epoch 13/30\n",
            "\u001b[1m9/9\u001b[0m \u001b[32m━━━━━━━━━━━━━━━━━━━━\u001b[0m\u001b[37m\u001b[0m \u001b[1m0s\u001b[0m 2s/step - accuracy: 0.6073 - loss: 0.8122\n",
            "Epoch 13: ReduceLROnPlateau reducing learning rate to 0.0005000000237487257.\n",
            "\u001b[1m9/9\u001b[0m \u001b[32m━━━━━━━━━━━━━━━━━━━━\u001b[0m\u001b[37m\u001b[0m \u001b[1m17s\u001b[0m 2s/step - accuracy: 0.6091 - loss: 0.8127 - val_accuracy: 0.6466 - val_loss: 0.7413 - learning_rate: 0.0010\n",
            "Epoch 14/30\n",
            "\u001b[1m9/9\u001b[0m \u001b[32m━━━━━━━━━━━━━━━━━━━━\u001b[0m\u001b[37m\u001b[0m \u001b[1m16s\u001b[0m 2s/step - accuracy: 0.6599 - loss: 0.7500 - val_accuracy: 0.7293 - val_loss: 0.6050 - learning_rate: 5.0000e-04\n",
            "Epoch 15/30\n",
            "\u001b[1m9/9\u001b[0m \u001b[32m━━━━━━━━━━━━━━━━━━━━\u001b[0m\u001b[37m\u001b[0m \u001b[1m16s\u001b[0m 2s/step - accuracy: 0.6597 - loss: 0.7303 - val_accuracy: 0.7293 - val_loss: 0.6275 - learning_rate: 5.0000e-04\n",
            "Epoch 16/30\n",
            "\u001b[1m9/9\u001b[0m \u001b[32m━━━━━━━━━━━━━━━━━━━━\u001b[0m\u001b[37m\u001b[0m \u001b[1m17s\u001b[0m 2s/step - accuracy: 0.7214 - loss: 0.6561 - val_accuracy: 0.7218 - val_loss: 0.6208 - learning_rate: 5.0000e-04\n",
            "Epoch 17/30\n",
            "\u001b[1m9/9\u001b[0m \u001b[32m━━━━━━━━━━━━━━━━━━━━\u001b[0m\u001b[37m\u001b[0m \u001b[1m0s\u001b[0m 2s/step - accuracy: 0.7295 - loss: 0.6512\n",
            "Epoch 17: ReduceLROnPlateau reducing learning rate to 0.0002500000118743628.\n",
            "\u001b[1m9/9\u001b[0m \u001b[32m━━━━━━━━━━━━━━━━━━━━\u001b[0m\u001b[37m\u001b[0m \u001b[1m16s\u001b[0m 2s/step - accuracy: 0.7297 - loss: 0.6519 - val_accuracy: 0.6466 - val_loss: 0.7023 - learning_rate: 5.0000e-04\n",
            "Epoch 18/30\n",
            "\u001b[1m9/9\u001b[0m \u001b[32m━━━━━━━━━━━━━━━━━━━━\u001b[0m\u001b[37m\u001b[0m \u001b[1m16s\u001b[0m 2s/step - accuracy: 0.7240 - loss: 0.6277 - val_accuracy: 0.7519 - val_loss: 0.5417 - learning_rate: 2.5000e-04\n",
            "Epoch 19/30\n",
            "\u001b[1m9/9\u001b[0m \u001b[32m━━━━━━━━━━━━━━━━━━━━\u001b[0m\u001b[37m\u001b[0m \u001b[1m16s\u001b[0m 2s/step - accuracy: 0.7128 - loss: 0.6392 - val_accuracy: 0.7143 - val_loss: 0.6035 - learning_rate: 2.5000e-04\n",
            "Epoch 20/30\n",
            "\u001b[1m9/9\u001b[0m \u001b[32m━━━━━━━━━━━━━━━━━━━━\u001b[0m\u001b[37m\u001b[0m \u001b[1m17s\u001b[0m 2s/step - accuracy: 0.7413 - loss: 0.6046 - val_accuracy: 0.6541 - val_loss: 0.7142 - learning_rate: 2.5000e-04\n",
            "Epoch 21/30\n",
            "\u001b[1m9/9\u001b[0m \u001b[32m━━━━━━━━━━━━━━━━━━━━\u001b[0m\u001b[37m\u001b[0m \u001b[1m16s\u001b[0m 2s/step - accuracy: 0.7405 - loss: 0.6168 - val_accuracy: 0.7970 - val_loss: 0.5002 - learning_rate: 2.5000e-04\n",
            "Epoch 22/30\n",
            "\u001b[1m9/9\u001b[0m \u001b[32m━━━━━━━━━━━━━━━━━━━━\u001b[0m\u001b[37m\u001b[0m \u001b[1m16s\u001b[0m 2s/step - accuracy: 0.7507 - loss: 0.5872 - val_accuracy: 0.6917 - val_loss: 0.6910 - learning_rate: 2.5000e-04\n",
            "Epoch 23/30\n",
            "\u001b[1m9/9\u001b[0m \u001b[32m━━━━━━━━━━━━━━━━━━━━\u001b[0m\u001b[37m\u001b[0m \u001b[1m17s\u001b[0m 2s/step - accuracy: 0.7308 - loss: 0.6240 - val_accuracy: 0.6692 - val_loss: 0.6861 - learning_rate: 2.5000e-04\n",
            "Epoch 24/30\n",
            "\u001b[1m9/9\u001b[0m \u001b[32m━━━━━━━━━━━━━━━━━━━━\u001b[0m\u001b[37m\u001b[0m \u001b[1m0s\u001b[0m 2s/step - accuracy: 0.7381 - loss: 0.6145\n",
            "Epoch 24: ReduceLROnPlateau reducing learning rate to 0.0001250000059371814.\n",
            "\u001b[1m9/9\u001b[0m \u001b[32m━━━━━━━━━━━━━━━━━━━━\u001b[0m\u001b[37m\u001b[0m \u001b[1m16s\u001b[0m 2s/step - accuracy: 0.7397 - loss: 0.6127 - val_accuracy: 0.7820 - val_loss: 0.5072 - learning_rate: 2.5000e-04\n",
            "Epoch 25/30\n",
            "\u001b[1m9/9\u001b[0m \u001b[32m━━━━━━━━━━━━━━━━━━━━\u001b[0m\u001b[37m\u001b[0m \u001b[1m16s\u001b[0m 2s/step - accuracy: 0.7409 - loss: 0.6027 - val_accuracy: 0.6767 - val_loss: 0.7284 - learning_rate: 1.2500e-04\n",
            "Epoch 26/30\n",
            "\u001b[1m9/9\u001b[0m \u001b[32m━━━━━━━━━━━━━━━━━━━━\u001b[0m\u001b[37m\u001b[0m \u001b[1m16s\u001b[0m 2s/step - accuracy: 0.7462 - loss: 0.5924 - val_accuracy: 0.7519 - val_loss: 0.5498 - learning_rate: 1.2500e-04\n",
            "Epoch 27/30\n",
            "\u001b[1m9/9\u001b[0m \u001b[32m━━━━━━━━━━━━━━━━━━━━\u001b[0m\u001b[37m\u001b[0m \u001b[1m0s\u001b[0m 2s/step - accuracy: 0.7532 - loss: 0.5777\n",
            "Epoch 27: ReduceLROnPlateau reducing learning rate to 6.25000029685907e-05.\n",
            "\u001b[1m9/9\u001b[0m \u001b[32m━━━━━━━━━━━━━━━━━━━━\u001b[0m\u001b[37m\u001b[0m \u001b[1m20s\u001b[0m 2s/step - accuracy: 0.7539 - loss: 0.5766 - val_accuracy: 0.6692 - val_loss: 0.6643 - learning_rate: 1.2500e-04\n",
            "Epoch 28/30\n",
            "\u001b[1m9/9\u001b[0m \u001b[32m━━━━━━━━━━━━━━━━━━━━\u001b[0m\u001b[37m\u001b[0m \u001b[1m16s\u001b[0m 2s/step - accuracy: 0.7672 - loss: 0.5243 - val_accuracy: 0.7143 - val_loss: 0.6098 - learning_rate: 6.2500e-05\n",
            "Epoch 29/30\n",
            "\u001b[1m9/9\u001b[0m \u001b[32m━━━━━━━━━━━━━━━━━━━━\u001b[0m\u001b[37m\u001b[0m \u001b[1m17s\u001b[0m 2s/step - accuracy: 0.7461 - loss: 0.5829 - val_accuracy: 0.7068 - val_loss: 0.6320 - learning_rate: 6.2500e-05\n",
            "Epoch 30/30\n",
            "\u001b[1m9/9\u001b[0m \u001b[32m━━━━━━━━━━━━━━━━━━━━\u001b[0m\u001b[37m\u001b[0m \u001b[1m0s\u001b[0m 2s/step - accuracy: 0.7552 - loss: 0.5860\n",
            "Epoch 30: ReduceLROnPlateau reducing learning rate to 3.125000148429535e-05.\n",
            "\u001b[1m9/9\u001b[0m \u001b[32m━━━━━━━━━━━━━━━━━━━━\u001b[0m\u001b[37m\u001b[0m \u001b[1m16s\u001b[0m 2s/step - accuracy: 0.7558 - loss: 0.5845 - val_accuracy: 0.7068 - val_loss: 0.5885 - learning_rate: 6.2500e-05\n"
          ]
        },
        {
          "output_type": "display_data",
          "data": {
            "text/plain": [
              "<Figure size 640x480 with 1 Axes>"
            ],
            "image/png": "[encoded data removed]"
          },
          "metadata": {}
        }
      ]
    },
    {
      "cell_type": "code",
      "source": [
        "\n",
        "# Após treinar e salvar seu modelo, carregue o modelo treinado:\n",
        "from tensorflow.keras.models import load_model\n",
        "import numpy as np\n",
        "from tensorflow.keras.preprocessing import image\n",
        "import os\n",
        "\n",
        "# Carregue o modelo treinado (ajuste o caminho se necessário)\n",
        "model.save('my_trained_modelBlaster.h5')  # Salve após o treinamento, se ainda não fez\n",
        "model = load_model('my_trained_modelBlaster.h5')\n",
        "\n",
        "# Diretório com imagens para testar\n",
        "test_datagen = ImageDataGenerator(\n",
        "    rescale=1./255\n",
        ")\n",
        "\n",
        "test_DIRECTORY_LOCATION = '/tmp/test/test' # YOUR CODE HERE #\n",
        "TARGET_SIZE = (224, 224) # YOUR CODE HERE #\n",
        "CLASS_MODE = 'categorical' # YOUR CODE HERE #\n",
        "\n",
        "test_generator = test_datagen.flow_from_directory(\n",
        "    test_DIRECTORY_LOCATION,\n",
        "    target_size = TARGET_SIZE,\n",
        "    batch_size = 128,\n",
        "    class_mode = CLASS_MODE\n",
        ")\n",
        "\n",
        "\n",
        "# Predição no conjunto de teste\n",
        "preds = model.predict(test_generator)\n",
        "predicted_classes = np.argmax(preds, axis=1)\n",
        "\n",
        "# Obtenha os nomes dos arquivos e classes verdadeiras\n",
        "filenames = test_generator.filenames\n",
        "true_classes = test_generator.classes\n",
        "class_labels = list(test_generator.class_indices.keys())\n",
        "\n",
        "# Calcule a acurácia\n",
        "correct = np.sum(predicted_classes == true_classes)\n",
        "total = len(true_classes)\n",
        "accuracy = correct / total * 100\n",
        "\n",
        "print(f\"\\nTest accuracy: {accuracy:.2f}%\\n\")\n",
        "\n",
        "# Exibir resultados individuais\n",
        "for i in range(len(filenames)):\n",
        "    print(f\"Image: {filenames[i]} - True class: {class_labels[true_classes[i]]} - Predicted class: {class_labels[predicted_classes[i]]} - Probabilities: {preds[i]}\")\n"
      ],
      "metadata": {
        "colab": {
          "base_uri": "https://localhost:8080/"
        },
        "id": "p8n_e42N6y5J",
        "outputId": "d7f75f18-36b1-4e79-8090-bc9156261659"
      },
      "execution_count": null,
      "outputs": [
        {
          "output_type": "stream",
          "name": "stderr",
          "text": [
            "WARNING:absl:You are saving your model as an HDF5 file via `model.save()` or `keras.saving.save_model(model)`. This file format is considered legacy. We recommend using instead the native Keras format, e.g. `model.save('my_model.keras')` or `keras.saving.save_model(model, 'my_model.keras')`. \n",
            "WARNING:absl:Compiled the loaded model, but the compiled metrics have yet to be built. `model.compile_metrics` will be empty until you train or evaluate the model.\n"
          ]
        },
        {
          "output_type": "stream",
          "name": "stdout",
          "text": [
            "Found 128 images belonging to 3 classes.\n",
            "\u001b[1m1/1\u001b[0m \u001b[32m━━━━━━━━━━━━━━━━━━━━\u001b[0m\u001b[37m\u001b[0m \u001b[1m1s\u001b[0m 857ms/step\n",
            "\n",
            "Test accuracy: 28.91%\n",
            "\n",
            "Image: angular_leaf_spot/angular_leaf_spot_test.0.jpg - True class: angular_leaf_spot - Predicted class: healthy - Probabilities: [0.00317607 0.00657052 0.9902534 ]\n",
            "Image: angular_leaf_spot/angular_leaf_spot_test.1.jpg - True class: angular_leaf_spot - Predicted class: angular_leaf_spot - Probabilities: [0.5739384  0.15316096 0.27290058]\n",
            "Image: angular_leaf_spot/angular_leaf_spot_test.10.jpg - True class: angular_leaf_spot - Predicted class: healthy - Probabilities: [0.02992694 0.06178094 0.9082921 ]\n",
            "Image: angular_leaf_spot/angular_leaf_spot_test.11.jpg - True class: angular_leaf_spot - Predicted class: bean_rust - Probabilities: [7.158400e-03 9.928376e-01 3.996025e-06]\n",
            "Image: angular_leaf_spot/angular_leaf_spot_test.12.jpg - True class: angular_leaf_spot - Predicted class: healthy - Probabilities: [8.4252597e-04 1.0819052e-03 9.9807560e-01]\n",
            "Image: angular_leaf_spot/angular_leaf_spot_test.13.jpg - True class: angular_leaf_spot - Predicted class: healthy - Probabilities: [0.00348316 0.00203768 0.9944792 ]\n",
            "Image: angular_leaf_spot/angular_leaf_spot_test.14.jpg - True class: angular_leaf_spot - Predicted class: healthy - Probabilities: [0.03798637 0.14183675 0.82017684]\n",
            "Image: angular_leaf_spot/angular_leaf_spot_test.15.jpg - True class: angular_leaf_spot - Predicted class: healthy - Probabilities: [0.04211947 0.07458008 0.8833004 ]\n",
            "Image: angular_leaf_spot/angular_leaf_spot_test.16.jpg - True class: angular_leaf_spot - Predicted class: bean_rust - Probabilities: [0.3215451  0.41526052 0.26319438]\n",
            "Image: angular_leaf_spot/angular_leaf_spot_test.17.jpg - True class: angular_leaf_spot - Predicted class: angular_leaf_spot - Probabilities: [0.8248737  0.16434358 0.01078278]\n",
            "Image: angular_leaf_spot/angular_leaf_spot_test.18.jpg - True class: angular_leaf_spot - Predicted class: healthy - Probabilities: [0.02300426 0.03023491 0.9467609 ]\n",
            "Image: angular_leaf_spot/angular_leaf_spot_test.19.jpg - True class: angular_leaf_spot - Predicted class: bean_rust - Probabilities: [0.34173417 0.62591726 0.03234858]\n",
            "Image: angular_leaf_spot/angular_leaf_spot_test.2.jpg - True class: angular_leaf_spot - Predicted class: healthy - Probabilities: [0.00189247 0.00223303 0.99587446]\n",
            "Image: angular_leaf_spot/angular_leaf_spot_test.20.jpg - True class: angular_leaf_spot - Predicted class: healthy - Probabilities: [0.00324514 0.00653357 0.99022126]\n",
            "Image: angular_leaf_spot/angular_leaf_spot_test.21.jpg - True class: angular_leaf_spot - Predicted class: healthy - Probabilities: [0.00316677 0.00516821 0.99166495]\n",
            "Image: angular_leaf_spot/angular_leaf_spot_test.22.jpg - True class: angular_leaf_spot - Predicted class: healthy - Probabilities: [7.8956696e-04 1.0880618e-03 9.9812239e-01]\n",
            "Image: angular_leaf_spot/angular_leaf_spot_test.23.jpg - True class: angular_leaf_spot - Predicted class: bean_rust - Probabilities: [0.06233956 0.833031   0.10462943]\n",
            "Image: angular_leaf_spot/angular_leaf_spot_test.24.jpg - True class: angular_leaf_spot - Predicted class: healthy - Probabilities: [0.00222011 0.00817226 0.98960763]\n",
            "Image: angular_leaf_spot/angular_leaf_spot_test.25.jpg - True class: angular_leaf_spot - Predicted class: healthy - Probabilities: [0.01730075 0.05534836 0.9273508 ]\n",
            "Image: angular_leaf_spot/angular_leaf_spot_test.26.jpg - True class: angular_leaf_spot - Predicted class: bean_rust - Probabilities: [0.1218821  0.44069216 0.43742573]\n",
            "Image: angular_leaf_spot/angular_leaf_spot_test.27.jpg - True class: angular_leaf_spot - Predicted class: angular_leaf_spot - Probabilities: [0.92837775 0.0469058  0.02471646]\n",
            "Image: angular_leaf_spot/angular_leaf_spot_test.28.jpg - True class: angular_leaf_spot - Predicted class: healthy - Probabilities: [0.01312088 0.0120543  0.9748248 ]\n",
            "Image: angular_leaf_spot/angular_leaf_spot_test.29.jpg - True class: angular_leaf_spot - Predicted class: bean_rust - Probabilities: [0.4006601  0.5904495  0.00889036]\n",
            "Image: angular_leaf_spot/angular_leaf_spot_test.3.jpg - True class: angular_leaf_spot - Predicted class: healthy - Probabilities: [5.9109583e-04 3.0260221e-03 9.9638283e-01]\n",
            "Image: angular_leaf_spot/angular_leaf_spot_test.30.jpg - True class: angular_leaf_spot - Predicted class: bean_rust - Probabilities: [0.10994594 0.4624909  0.42756316]\n",
            "Image: angular_leaf_spot/angular_leaf_spot_test.31.jpg - True class: angular_leaf_spot - Predicted class: angular_leaf_spot - Probabilities: [0.79037356 0.19448242 0.01514395]\n",
            "Image: angular_leaf_spot/angular_leaf_spot_test.32.jpg - True class: angular_leaf_spot - Predicted class: healthy - Probabilities: [0.21371917 0.12857002 0.6577108 ]\n",
            "Image: angular_leaf_spot/angular_leaf_spot_test.33.jpg - True class: angular_leaf_spot - Predicted class: angular_leaf_spot - Probabilities: [0.6860837  0.2091571  0.10475925]\n",
            "Image: angular_leaf_spot/angular_leaf_spot_test.34.jpg - True class: angular_leaf_spot - Predicted class: bean_rust - Probabilities: [0.19932704 0.7511184  0.04955446]\n",
            "Image: angular_leaf_spot/angular_leaf_spot_test.35.jpg - True class: angular_leaf_spot - Predicted class: bean_rust - Probabilities: [0.05056436 0.9474234  0.0020123 ]\n",
            "Image: angular_leaf_spot/angular_leaf_spot_test.36.jpg - True class: angular_leaf_spot - Predicted class: angular_leaf_spot - Probabilities: [0.8069312  0.18906121 0.00400759]\n",
            "Image: angular_leaf_spot/angular_leaf_spot_test.37.jpg - True class: angular_leaf_spot - Predicted class: healthy - Probabilities: [0.04876454 0.02143377 0.9298017 ]\n",
            "Image: angular_leaf_spot/angular_leaf_spot_test.38.jpg - True class: angular_leaf_spot - Predicted class: healthy - Probabilities: [0.03372177 0.02474204 0.9415362 ]\n",
            "Image: angular_leaf_spot/angular_leaf_spot_test.39.jpg - True class: angular_leaf_spot - Predicted class: healthy - Probabilities: [0.05949586 0.16953124 0.7709729 ]\n",
            "Image: angular_leaf_spot/angular_leaf_spot_test.4.jpg - True class: angular_leaf_spot - Predicted class: bean_rust - Probabilities: [0.19904414 0.599773   0.20118289]\n",
            "Image: angular_leaf_spot/angular_leaf_spot_test.40.jpg - True class: angular_leaf_spot - Predicted class: healthy - Probabilities: [5.7549030e-04 9.3653338e-04 9.9848795e-01]\n",
            "Image: angular_leaf_spot/angular_leaf_spot_test.41.jpg - True class: angular_leaf_spot - Predicted class: healthy - Probabilities: [0.00890863 0.01686055 0.9742309 ]\n",
            "Image: angular_leaf_spot/angular_leaf_spot_test.42.jpg - True class: angular_leaf_spot - Predicted class: healthy - Probabilities: [3.322052e-04 5.368719e-04 9.991309e-01]\n",
            "Image: angular_leaf_spot/angular_leaf_spot_test.5.jpg - True class: angular_leaf_spot - Predicted class: angular_leaf_spot - Probabilities: [0.8821655  0.11266776 0.00516676]\n",
            "Image: angular_leaf_spot/angular_leaf_spot_test.6.jpg - True class: angular_leaf_spot - Predicted class: bean_rust - Probabilities: [0.23038165 0.74662125 0.02299707]\n",
            "Image: angular_leaf_spot/angular_leaf_spot_test.7.jpg - True class: angular_leaf_spot - Predicted class: bean_rust - Probabilities: [0.47809994 0.5106128  0.01128734]\n",
            "Image: angular_leaf_spot/angular_leaf_spot_test.8.jpg - True class: angular_leaf_spot - Predicted class: bean_rust - Probabilities: [0.05930957 0.9325842  0.00810624]\n",
            "Image: angular_leaf_spot/angular_leaf_spot_test.9.jpg - True class: angular_leaf_spot - Predicted class: angular_leaf_spot - Probabilities: [0.4885502  0.42628768 0.08516213]\n",
            "Image: bean_rust/bean_rust_test.0.jpg - True class: bean_rust - Predicted class: angular_leaf_spot - Probabilities: [0.8659108  0.12591301 0.00817617]\n",
            "Image: bean_rust/bean_rust_test.1.jpg - True class: bean_rust - Predicted class: healthy - Probabilities: [0.20592444 0.06391548 0.73016006]\n",
            "Image: bean_rust/bean_rust_test.10.jpg - True class: bean_rust - Predicted class: bean_rust - Probabilities: [0.35199317 0.55179876 0.09620813]\n",
            "Image: bean_rust/bean_rust_test.11.jpg - True class: bean_rust - Predicted class: angular_leaf_spot - Probabilities: [0.74837875 0.09571069 0.15591057]\n",
            "Image: bean_rust/bean_rust_test.12.jpg - True class: bean_rust - Predicted class: healthy - Probabilities: [0.07421145 0.07462614 0.8511624 ]\n",
            "Image: bean_rust/bean_rust_test.13.jpg - True class: bean_rust - Predicted class: bean_rust - Probabilities: [0.26478198 0.4127488  0.3224692 ]\n",
            "Image: bean_rust/bean_rust_test.14.jpg - True class: bean_rust - Predicted class: angular_leaf_spot - Probabilities: [0.8408001  0.10949729 0.04970261]\n",
            "Image: bean_rust/bean_rust_test.15.jpg - True class: bean_rust - Predicted class: angular_leaf_spot - Probabilities: [0.73008066 0.22596955 0.04394979]\n",
            "Image: bean_rust/bean_rust_test.16.jpg - True class: bean_rust - Predicted class: angular_leaf_spot - Probabilities: [0.89347357 0.0930693  0.01345714]\n",
            "Image: bean_rust/bean_rust_test.17.jpg - True class: bean_rust - Predicted class: healthy - Probabilities: [0.00559301 0.00493381 0.98947316]\n",
            "Image: bean_rust/bean_rust_test.18.jpg - True class: bean_rust - Predicted class: angular_leaf_spot - Probabilities: [0.6790501  0.31351423 0.00743563]\n",
            "Image: bean_rust/bean_rust_test.19.jpg - True class: bean_rust - Predicted class: healthy - Probabilities: [4.424246e-04 7.014225e-04 9.988562e-01]\n",
            "Image: bean_rust/bean_rust_test.2.jpg - True class: bean_rust - Predicted class: angular_leaf_spot - Probabilities: [0.8987265  0.08276222 0.01851128]\n",
            "Image: bean_rust/bean_rust_test.20.jpg - True class: bean_rust - Predicted class: angular_leaf_spot - Probabilities: [0.9404684  0.05403159 0.00549997]\n",
            "Image: bean_rust/bean_rust_test.21.jpg - True class: bean_rust - Predicted class: bean_rust - Probabilities: [0.4076398  0.49142328 0.10093692]\n",
            "Image: bean_rust/bean_rust_test.22.jpg - True class: bean_rust - Predicted class: healthy - Probabilities: [0.01126836 0.01552902 0.97320265]\n",
            "Image: bean_rust/bean_rust_test.23.jpg - True class: bean_rust - Predicted class: healthy - Probabilities: [6.1610213e-04 2.0063040e-03 9.9737763e-01]\n",
            "Image: bean_rust/bean_rust_test.24.jpg - True class: bean_rust - Predicted class: healthy - Probabilities: [0.00149096 0.00426932 0.9942397 ]\n",
            "Image: bean_rust/bean_rust_test.25.jpg - True class: bean_rust - Predicted class: healthy - Probabilities: [0.00163974 0.00710974 0.9912505 ]\n",
            "Image: bean_rust/bean_rust_test.26.jpg - True class: bean_rust - Predicted class: healthy - Probabilities: [1.0553485e-04 8.0011506e-04 9.9909437e-01]\n",
            "Image: bean_rust/bean_rust_test.27.jpg - True class: bean_rust - Predicted class: healthy - Probabilities: [0.00101162 0.00146195 0.99752647]\n",
            "Image: bean_rust/bean_rust_test.28.jpg - True class: bean_rust - Predicted class: angular_leaf_spot - Probabilities: [0.60425127 0.16738899 0.22835979]\n",
            "Image: bean_rust/bean_rust_test.29.jpg - True class: bean_rust - Predicted class: angular_leaf_spot - Probabilities: [0.7400304  0.2091216  0.05084798]\n",
            "Image: bean_rust/bean_rust_test.3.jpg - True class: bean_rust - Predicted class: healthy - Probabilities: [0.02002255 0.1363023  0.84367514]\n",
            "Image: bean_rust/bean_rust_test.30.jpg - True class: bean_rust - Predicted class: angular_leaf_spot - Probabilities: [0.5006435  0.45589608 0.04346046]\n",
            "Image: bean_rust/bean_rust_test.31.jpg - True class: bean_rust - Predicted class: angular_leaf_spot - Probabilities: [0.8871771  0.10028064 0.01254231]\n",
            "Image: bean_rust/bean_rust_test.32.jpg - True class: bean_rust - Predicted class: bean_rust - Probabilities: [7.2672480e-04 9.9635017e-01 2.9230732e-03]\n",
            "Image: bean_rust/bean_rust_test.33.jpg - True class: bean_rust - Predicted class: bean_rust - Probabilities: [0.32300037 0.61227924 0.06472041]\n",
            "Image: bean_rust/bean_rust_test.34.jpg - True class: bean_rust - Predicted class: bean_rust - Probabilities: [0.15573011 0.67234886 0.17192106]\n",
            "Image: bean_rust/bean_rust_test.35.jpg - True class: bean_rust - Predicted class: bean_rust - Probabilities: [0.18696335 0.76234883 0.05068786]\n",
            "Image: bean_rust/bean_rust_test.36.jpg - True class: bean_rust - Predicted class: healthy - Probabilities: [0.00734779 0.00833711 0.9843151 ]\n",
            "Image: bean_rust/bean_rust_test.37.jpg - True class: bean_rust - Predicted class: bean_rust - Probabilities: [0.24465747 0.6165751  0.13876745]\n",
            "Image: bean_rust/bean_rust_test.38.jpg - True class: bean_rust - Predicted class: healthy - Probabilities: [0.05174414 0.16983528 0.77842057]\n",
            "Image: bean_rust/bean_rust_test.39.jpg - True class: bean_rust - Predicted class: angular_leaf_spot - Probabilities: [0.93530184 0.05427465 0.01042343]\n",
            "Image: bean_rust/bean_rust_test.4.jpg - True class: bean_rust - Predicted class: bean_rust - Probabilities: [0.18247677 0.7332213  0.08430189]\n",
            "Image: bean_rust/bean_rust_test.40.jpg - True class: bean_rust - Predicted class: bean_rust - Probabilities: [0.12417154 0.8477055  0.02812289]\n",
            "Image: bean_rust/bean_rust_test.41.jpg - True class: bean_rust - Predicted class: bean_rust - Probabilities: [0.3886579 0.4734226 0.1379195]\n",
            "Image: bean_rust/bean_rust_test.42.jpg - True class: bean_rust - Predicted class: bean_rust - Probabilities: [0.10025475 0.6258453  0.27389994]\n",
            "Image: bean_rust/bean_rust_test.5.jpg - True class: bean_rust - Predicted class: healthy - Probabilities: [0.0050635  0.00278728 0.99214923]\n",
            "Image: bean_rust/bean_rust_test.6.jpg - True class: bean_rust - Predicted class: healthy - Probabilities: [0.11770108 0.39281338 0.48948553]\n",
            "Image: bean_rust/bean_rust_test.7.jpg - True class: bean_rust - Predicted class: angular_leaf_spot - Probabilities: [0.7908815  0.19815482 0.01096365]\n",
            "Image: bean_rust/bean_rust_test.8.jpg - True class: bean_rust - Predicted class: healthy - Probabilities: [0.03741524 0.07054605 0.8920387 ]\n",
            "Image: bean_rust/bean_rust_test.9.jpg - True class: bean_rust - Predicted class: angular_leaf_spot - Probabilities: [9.8778641e-01 1.1470084e-02 7.4352010e-04]\n",
            "Image: healthy/healthy_test.0.jpg - True class: healthy - Predicted class: bean_rust - Probabilities: [0.16750886 0.8181948  0.01429626]\n",
            "Image: healthy/healthy_test.1.jpg - True class: healthy - Predicted class: healthy - Probabilities: [0.0281716  0.12835065 0.8434777 ]\n",
            "Image: healthy/healthy_test.10.jpg - True class: healthy - Predicted class: healthy - Probabilities: [0.00131099 0.00298157 0.9957074 ]\n",
            "Image: healthy/healthy_test.11.jpg - True class: healthy - Predicted class: bean_rust - Probabilities: [0.256355   0.6685677  0.07507727]\n",
            "Image: healthy/healthy_test.12.jpg - True class: healthy - Predicted class: healthy - Probabilities: [0.00610533 0.05637153 0.9375231 ]\n",
            "Image: healthy/healthy_test.13.jpg - True class: healthy - Predicted class: healthy - Probabilities: [0.14930779 0.06825135 0.78244084]\n",
            "Image: healthy/healthy_test.14.jpg - True class: healthy - Predicted class: angular_leaf_spot - Probabilities: [0.8768692  0.07573174 0.04739903]\n",
            "Image: healthy/healthy_test.15.jpg - True class: healthy - Predicted class: bean_rust - Probabilities: [0.32649186 0.41427818 0.25923002]\n",
            "Image: healthy/healthy_test.16.jpg - True class: healthy - Predicted class: angular_leaf_spot - Probabilities: [0.84797156 0.14796267 0.00406575]\n",
            "Image: healthy/healthy_test.17.jpg - True class: healthy - Predicted class: angular_leaf_spot - Probabilities: [9.8226768e-01 1.7397864e-02 3.3456835e-04]\n",
            "Image: healthy/healthy_test.18.jpg - True class: healthy - Predicted class: bean_rust - Probabilities: [0.04531538 0.7912145  0.16347016]\n",
            "Image: healthy/healthy_test.19.jpg - True class: healthy - Predicted class: healthy - Probabilities: [0.00439716 0.00564301 0.98995984]\n",
            "Image: healthy/healthy_test.2.jpg - True class: healthy - Predicted class: bean_rust - Probabilities: [1.2308787e-02 9.8679465e-01 8.9666515e-04]\n",
            "Image: healthy/healthy_test.20.jpg - True class: healthy - Predicted class: healthy - Probabilities: [9.2877896e-04 2.0340758e-03 9.9703717e-01]\n",
            "Image: healthy/healthy_test.21.jpg - True class: healthy - Predicted class: healthy - Probabilities: [0.12148822 0.21223879 0.66627306]\n",
            "Image: healthy/healthy_test.22.jpg - True class: healthy - Predicted class: bean_rust - Probabilities: [0.35100165 0.6178354  0.03116291]\n",
            "Image: healthy/healthy_test.23.jpg - True class: healthy - Predicted class: angular_leaf_spot - Probabilities: [0.9055126  0.07651983 0.01796756]\n",
            "Image: healthy/healthy_test.24.jpg - True class: healthy - Predicted class: healthy - Probabilities: [0.1164277  0.04660991 0.8369624 ]\n",
            "Image: healthy/healthy_test.25.jpg - True class: healthy - Predicted class: angular_leaf_spot - Probabilities: [0.8112455  0.14642131 0.04233316]\n",
            "Image: healthy/healthy_test.26.jpg - True class: healthy - Predicted class: healthy - Probabilities: [0.07185593 0.36143583 0.5667082 ]\n",
            "Image: healthy/healthy_test.27.jpg - True class: healthy - Predicted class: angular_leaf_spot - Probabilities: [0.86211663 0.13481809 0.00306529]\n",
            "Image: healthy/healthy_test.28.jpg - True class: healthy - Predicted class: healthy - Probabilities: [8.7911307e-05 2.0230295e-04 9.9970978e-01]\n",
            "Image: healthy/healthy_test.29.jpg - True class: healthy - Predicted class: healthy - Probabilities: [3.3393662e-04 4.5523004e-04 9.9921083e-01]\n",
            "Image: healthy/healthy_test.3.jpg - True class: healthy - Predicted class: healthy - Probabilities: [0.00183332 0.00195863 0.9962081 ]\n",
            "Image: healthy/healthy_test.30.jpg - True class: healthy - Predicted class: angular_leaf_spot - Probabilities: [0.86199266 0.13389386 0.00411352]\n",
            "Image: healthy/healthy_test.31.jpg - True class: healthy - Predicted class: healthy - Probabilities: [0.12190813 0.08676073 0.7913312 ]\n",
            "Image: healthy/healthy_test.32.jpg - True class: healthy - Predicted class: healthy - Probabilities: [9.6817897e-04 2.7582007e-03 9.9627364e-01]\n",
            "Image: healthy/healthy_test.33.jpg - True class: healthy - Predicted class: healthy - Probabilities: [0.00301096 0.00147944 0.9955096 ]\n",
            "Image: healthy/healthy_test.34.jpg - True class: healthy - Predicted class: angular_leaf_spot - Probabilities: [7.2826540e-01 2.7103707e-01 6.9757923e-04]\n",
            "Image: healthy/healthy_test.35.jpg - True class: healthy - Predicted class: bean_rust - Probabilities: [0.27532008 0.5719522  0.15272772]\n",
            "Image: healthy/healthy_test.36.jpg - True class: healthy - Predicted class: healthy - Probabilities: [0.01070028 0.01043412 0.9788656 ]\n",
            "Image: healthy/healthy_test.37.jpg - True class: healthy - Predicted class: angular_leaf_spot - Probabilities: [0.90050834 0.09167504 0.00781657]\n",
            "Image: healthy/healthy_test.38.jpg - True class: healthy - Predicted class: bean_rust - Probabilities: [0.36270726 0.5326144  0.10467834]\n",
            "Image: healthy/healthy_test.39.jpg - True class: healthy - Predicted class: bean_rust - Probabilities: [3.1117143e-04 9.9958152e-01 1.0732834e-04]\n",
            "Image: healthy/healthy_test.4.jpg - True class: healthy - Predicted class: angular_leaf_spot - Probabilities: [0.95678985 0.0414954  0.00171474]\n",
            "Image: healthy/healthy_test.40.jpg - True class: healthy - Predicted class: angular_leaf_spot - Probabilities: [9.8888636e-01 1.1059913e-02 5.3697328e-05]\n",
            "Image: healthy/healthy_test.41.jpg - True class: healthy - Predicted class: angular_leaf_spot - Probabilities: [0.6014958  0.30012414 0.09838003]\n",
            "Image: healthy/healthy_test.5.jpg - True class: healthy - Predicted class: healthy - Probabilities: [0.008209   0.03658123 0.95520973]\n",
            "Image: healthy/healthy_test.6.jpg - True class: healthy - Predicted class: bean_rust - Probabilities: [0.39068633 0.5914319  0.01788169]\n",
            "Image: healthy/healthy_test.7.jpg - True class: healthy - Predicted class: angular_leaf_spot - Probabilities: [0.8715338  0.1098363  0.01862988]\n",
            "Image: healthy/healthy_test.8.jpg - True class: healthy - Predicted class: angular_leaf_spot - Probabilities: [0.9279721  0.07031003 0.00171786]\n",
            "Image: healthy/healthy_test.9.jpg - True class: healthy - Predicted class: bean_rust - Probabilities: [0.3839072  0.5132606  0.10283218]\n"
          ]
        }
      ]
    },
    {
      "cell_type": "code",
      "source": [],
      "metadata": {
        "id": "Hg66STvNT6lX"
      },
      "execution_count": null,
      "outputs": []
    }
  ],
  "metadata": {
    "accelerator": "GPU",
    "colab": {
      "name": "2-4-11-Question.ipynb",
      "provenance": [],
      "include_colab_link": true
    },
    "kernelspec": {
      "display_name": "Python 3",
      "language": "python",
      "name": "python3"
    },
    "language_info": {
      "codemirror_mode": {
        "name": "ipython",
        "version": 3
      },
      "file_extension": ".py",
      "mimetype": "text/x-python",
      "name": "python",
      "nbconvert_exporter": "python",
      "pygments_lexer": "ipython3",
      "version": "3.6.9"
    }
  },
  "nbformat": 4,
  "nbformat_minor": 0
}